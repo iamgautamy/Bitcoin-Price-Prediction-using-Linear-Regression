{
 "cells": [
  {
   "cell_type": "code",
   "execution_count": 1,
   "metadata": {},
   "outputs": [],
   "source": [
    "import pandas as pd\r\n",
    "import numpy as np\r\n",
    "import matplotlib.pyplot as plt \r\n",
    "import seaborn as sns "
   ]
  },
  {
   "cell_type": "markdown",
   "metadata": {},
   "source": [
    "IMPORTING DATA"
   ]
  },
  {
   "cell_type": "code",
   "execution_count": 2,
   "metadata": {},
   "outputs": [],
   "source": [
    "train = pd.read_csv('TRAIN.csv')\r\n",
    "test = pd.read_csv('TEST.csv')"
   ]
  },
  {
   "cell_type": "markdown",
   "metadata": {},
   "source": [
    "EXAMINING DATA  "
   ]
  },
  {
   "cell_type": "code",
   "execution_count": 3,
   "metadata": {},
   "outputs": [
    {
     "data": {
      "text/plain": "(900, 7)"
     },
     "execution_count": 3,
     "metadata": {},
     "output_type": "execute_result"
    }
   ],
   "source": [
    "train.shape"
   ]
  },
  {
   "cell_type": "code",
   "execution_count": 4,
   "metadata": {},
   "outputs": [
    {
     "data": {
      "text/plain": "(149, 4)"
     },
     "execution_count": 4,
     "metadata": {},
     "output_type": "execute_result"
    }
   ],
   "source": [
    "test.shape"
   ]
  },
  {
   "cell_type": "code",
   "execution_count": 5,
   "metadata": {},
   "outputs": [
    {
     "data": {
      "text/plain": "<bound method NDFrame.describe of            Date     Open     High      Low    Close  Adj Close       Volume\n0    2017-01-01   963.66  1003.08   958.70   998.33     998.33    147775008\n1    2017-01-02   998.62  1031.39   996.70  1021.75    1021.75    222184992\n2    2017-01-03  1021.60  1044.08  1021.60  1043.84    1043.84    185168000\n3    2017-01-04  1044.40  1159.42  1044.40  1154.73    1154.73    344945984\n4    2017-01-05  1156.73  1191.10   910.42  1013.38    1013.38    510199008\n..          ...      ...      ...      ...      ...        ...          ...\n895  2019-06-15  8689.75  8859.13  8618.40  8838.38    8838.38  18371033226\n896  2019-06-16  8841.44  9335.87  8814.56  8994.49    8994.49  23348550310\n897  2019-06-17  8988.92  9416.41  8988.92  9320.35    9320.35  15562951918\n898  2019-06-18  9335.47  9348.37  9004.90  9081.76    9081.76  15848210535\n899  2019-06-19  9078.73  9299.62  9070.40  9273.52    9273.52  15546809946\n\n[900 rows x 7 columns]>"
     },
     "execution_count": 5,
     "metadata": {},
     "output_type": "execute_result"
    }
   ],
   "source": [
    "train.describe"
   ]
  },
  {
   "cell_type": "code",
   "execution_count": 6,
   "metadata": {},
   "outputs": [
    {
     "data": {
      "text/plain": "<bound method NDFrame.describe of            Date      Open      High       Low\n0    2019-06-20   9273.06   9594.42   9232.48\n1    2019-06-21   9525.07  10144.56   9525.07\n2    2019-06-22  10175.92  11157.35  10107.04\n3    2019-06-23  10696.69  11246.14  10556.10\n4    2019-06-24  10853.74  11065.90  10610.43\n..          ...       ...       ...       ...\n144  2019-11-11   9056.92   9081.28   8700.61\n145  2019-11-12   8759.75   8853.77   8685.43\n146  2019-11-13   8812.03   8836.84   8761.65\n147  2019-11-14   8811.94   8826.94   8692.55\n148  2019-11-15   8705.71   8730.87   8484.84\n\n[149 rows x 4 columns]>"
     },
     "execution_count": 6,
     "metadata": {},
     "output_type": "execute_result"
    }
   ],
   "source": [
    "test.describe"
   ]
  },
  {
   "cell_type": "code",
   "execution_count": 7,
   "metadata": {},
   "outputs": [],
   "source": [
    "from sklearn.preprocessing import LabelEncoder\r\n",
    "encoder1 = LabelEncoder()\r\n",
    "encoder1.fit(train[\"Date\"])\r\n",
    "encode_labels1 = encoder1.transform(train[\"Date\"])"
   ]
  },
  {
   "cell_type": "markdown",
   "metadata": {},
   "source": [
    "DATA VISUALIZATION"
   ]
  },
  {
   "cell_type": "code",
   "execution_count": 8,
   "metadata": {},
   "outputs": [],
   "source": [
    "#plt.plot(train.Date,train.Open)\r\n"
   ]
  },
  {
   "cell_type": "code",
   "execution_count": 9,
   "metadata": {},
   "outputs": [],
   "source": [
    "#plt.plot(train.Date,train.Close)"
   ]
  },
  {
   "cell_type": "markdown",
   "metadata": {},
   "source": [
    "DATA PROCESSING"
   ]
  },
  {
   "cell_type": "code",
   "execution_count": 10,
   "metadata": {},
   "outputs": [],
   "source": [
    "X = train.drop(['Date','Close','Adj Close','Volume'],axis=1)\r\n",
    "y = train['Close']"
   ]
  },
  {
   "cell_type": "code",
   "execution_count": 11,
   "metadata": {},
   "outputs": [
    {
     "data": {
      "text/plain": "LinearRegression()"
     },
     "execution_count": 11,
     "metadata": {},
     "output_type": "execute_result"
    }
   ],
   "source": [
    "from sklearn.linear_model import LinearRegression\r\n",
    "lin = LinearRegression()\r\n",
    "lin.fit(X,y)"
   ]
  },
  {
   "cell_type": "code",
   "execution_count": 12,
   "metadata": {},
   "outputs": [],
   "source": [
    "test_popped = test.pop('Date')"
   ]
  },
  {
   "cell_type": "code",
   "execution_count": 13,
   "metadata": {},
   "outputs": [],
   "source": [
    "predicted_output=lin.predict(test)"
   ]
  },
  {
   "cell_type": "code",
   "execution_count": 29,
   "metadata": {},
   "outputs": [
    {
     "data": {
      "text/plain": "array([ 9474.93344162, 10021.72773105, 10958.46502527, 11037.27817868,\n       10823.94041257, 11642.14042452, 13524.2958182 , 11708.71154398,\n       12108.2096626 , 11784.10077272, 11403.89267418, 10676.56964115,\n       10307.43219864, 11790.10112407, 11440.47174231, 11102.82152163,\n       11484.58355482, 11389.43029124, 12152.58630696, 12614.23948451,\n       12483.10538145, 11477.79742369, 11670.85100796, 11220.37962336,\n       10688.14884879, 10753.57977205, 10058.20134661,  9671.10276475,\n       10389.09240363, 10383.21398479, 10882.09956166, 10528.30632132,\n       10308.81696426,  9998.06468639,  9673.18350565, 10031.55357996,\n        9727.99870747,  9799.72252441,  9357.85190842,  9555.39999859,\n        9566.14929529,  9970.24712809, 10249.56814218, 10540.289575  ,\n       10822.6767895 , 10794.14099284, 11734.04308169, 11840.55422575,\n       11878.20876855, 11653.64054036, 11735.62852546, 11506.39495452,\n       11363.81408524, 11319.62870447, 11006.31041064, 10303.31823539,\n       10116.32518692, 10158.22424586, 10207.84430861, 10322.42787814,\n       10769.25349297, 10688.14670909, 10245.48139062,  9967.43096443,\n       10306.88381569, 10090.10331607, 10127.55987755, 10404.16992476,\n       10135.70092339,  9911.66234849,  9487.87441523,  9522.86682756,\n        9556.97317539,  9683.23344552, 10254.50285832, 10604.01063642,\n       10561.79854198, 10502.44602174, 10625.02609649, 10460.9329453 ,\n       10446.35108883, 10196.74721083, 10127.1248137 , 10049.15155036,\n       10298.38731775, 10250.68046081, 10306.70314123, 10281.44554445,\n       10213.79527824, 10170.60261833, 10163.8508979 , 10007.13287381,\n       10128.81564262, 10004.41849579,  9935.83726832,  9798.93142818,\n        8930.26107578,  8506.94493033,  8104.45475222,  8112.82666992,\n        8148.70388353,  8050.47947681,  8077.3485781 ,  8381.05857474,\n        8259.60741827,  8207.72051869,  8136.21008829,  8073.66240366,\n        7989.07974622,  8174.62778671,  8229.40922974,  8498.67119552,\n        8492.45223481,  8489.6930352 ,  8344.62138771,  8363.36904867,\n        8301.96406025,  8234.55007254,  8027.26606277,  8041.38874402,\n        7959.77125881,  7998.41372767,  8171.36948762,  8213.72837714,\n        8132.98083054,  7677.37933574,  7439.91602056,  8530.30277904,\n        9841.34722323,  9562.78327616,  9532.96543349,  9415.90982936,\n        9159.19657102,  9198.11242729,  9164.44474162,  9293.00307309,\n        9198.57552459,  9388.15804581,  9292.43291161,  9326.56028873,\n        9209.89886586,  8916.70559511,  8810.41321589,  9010.6917779 ,\n        8803.67832732,  8737.83227867,  8740.29941657,  8690.8257208 ,\n        8535.36792499])"
     },
     "execution_count": 29,
     "metadata": {},
     "output_type": "execute_result"
    }
   ],
   "source": [
    "predicted_output"
   ]
  }
 ],
 "metadata": {
  "kernelspec": {
   "display_name": "Python 3.9.0 64-bit",
   "name": "python390jvsc74a57bd099c88eeb74507d5ad6e0f603d98cd32f27498cc44a9bd4bf6b9bdf1a3514cee0"
  },
  "language_info": {
   "codemirror_mode": {
    "name": "ipython",
    "version": 3
   },
   "file_extension": ".py",
   "mimetype": "text/x-python",
   "name": "python",
   "nbconvert_exporter": "python",
   "pygments_lexer": "ipython3",
   "version": "3.9.0"
  },
  "orig_nbformat": 2
 },
 "nbformat": 4,
 "nbformat_minor": 2
}